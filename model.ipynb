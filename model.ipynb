{
 "cells": [
  {
   "cell_type": "code",
   "execution_count": 84,
   "metadata": {
    "collapsed": true,
    "pycharm": {
     "is_executing": false
    }
   },
   "outputs": [],
   "source": [
    "import numpy as np\n",
    "import pandas as pd\n",
    "import collections\n",
    "import jieba\n",
    "from keras.preprocessing.sequence import pad_sequences  #序列预处理 序列填充\n",
    "from keras.utils import to_categorical,plot_model   # 将类别向量转换为二进制（只有0和1）的矩阵类型表示\n",
    "from keras.models import Sequential   # 序贯模型是函数式模型的简略版，为最简单的线性、从头到尾的结构顺序，不分叉，是多个网络层的线性堆叠。\n",
    "from keras.layers import Embedding, LSTM, Dense"
   ]
  },
  {
   "cell_type": "code",
   "execution_count": 85,
   "outputs": [],
   "source": [
    "# train_data_url = \"https://worksheets.codalab.org/rest/bundles/0x0161fd2fb40d4dd48541c2643d04b0b8/contents/blob/\"\n",
    "# test_data_url = \"https://worksheets.codalab.org/rest/bundles/0x1f96bc12222641209ad057e762910252/contents/blob/\""
   ],
   "metadata": {
    "collapsed": false,
    "pycharm": {
     "name": "#%%\n",
     "is_executing": false
    }
   }
  },
  {
   "cell_type": "code",
   "execution_count": 86,
   "outputs": [],
   "source": [
    "def get_json_data(path):\n",
    "    # read data\n",
    "    data_df = pd.read_json(path)\n",
    "    # change row and colunm\n",
    "    data_df = data_df.transpose()\n",
    "    # change colunm order\n",
    "    data_df = data_df[['query', 'label']]\n",
    "    return data_df"
   ],
   "metadata": {
    "collapsed": false,
    "pycharm": {
     "name": "#%%\n",
     "is_executing": false
    }
   }
  },
  {
   "cell_type": "code",
   "execution_count": 87,
   "outputs": [
    {
     "data": {
      "text/plain": "            query     label\n0        今天东莞天气如何   weather\n1  从观音桥到重庆市图书馆怎么走       map\n2          鸭蛋怎么腌？  cookbook\n3         怎么治疗牛皮癣    health\n4             唠什么      chat",
      "text/html": "<div>\n<style scoped>\n    .dataframe tbody tr th:only-of-type {\n        vertical-align: middle;\n    }\n\n    .dataframe tbody tr th {\n        vertical-align: top;\n    }\n\n    .dataframe thead th {\n        text-align: right;\n    }\n</style>\n<table border=\"1\" class=\"dataframe\">\n  <thead>\n    <tr style=\"text-align: right;\">\n      <th></th>\n      <th>query</th>\n      <th>label</th>\n    </tr>\n  </thead>\n  <tbody>\n    <tr>\n      <th>0</th>\n      <td>今天东莞天气如何</td>\n      <td>weather</td>\n    </tr>\n    <tr>\n      <th>1</th>\n      <td>从观音桥到重庆市图书馆怎么走</td>\n      <td>map</td>\n    </tr>\n    <tr>\n      <th>2</th>\n      <td>鸭蛋怎么腌？</td>\n      <td>cookbook</td>\n    </tr>\n    <tr>\n      <th>3</th>\n      <td>怎么治疗牛皮癣</td>\n      <td>health</td>\n    </tr>\n    <tr>\n      <th>4</th>\n      <td>唠什么</td>\n      <td>chat</td>\n    </tr>\n  </tbody>\n</table>\n</div>"
     },
     "metadata": {},
     "output_type": "execute_result",
     "execution_count": 87
    }
   ],
   "source": [
    "train_data_df = get_json_data(path=\"train.json\")\n",
    "test_data_df = get_json_data(path=\"dev.json\")\n",
    "\n",
    "train_data_df.head()"
   ],
   "metadata": {
    "collapsed": false,
    "pycharm": {
     "name": "#%%\n",
     "is_executing": false
    }
   }
  },
  {
   "cell_type": "code",
   "execution_count": 88,
   "outputs": [
    {
     "data": {
      "text/plain": "                   query        label\n0                毛泽东的诗哦。       poetry\n1                有房有车吗微笑         chat\n2  2013年亚洲冠军联赛恒广州恒大比赛时间。        match\n3           若相惜不弃下一句是什么？       poetry\n4                苹果翻译成英语  translation",
      "text/html": "<div>\n<style scoped>\n    .dataframe tbody tr th:only-of-type {\n        vertical-align: middle;\n    }\n\n    .dataframe tbody tr th {\n        vertical-align: top;\n    }\n\n    .dataframe thead th {\n        text-align: right;\n    }\n</style>\n<table border=\"1\" class=\"dataframe\">\n  <thead>\n    <tr style=\"text-align: right;\">\n      <th></th>\n      <th>query</th>\n      <th>label</th>\n    </tr>\n  </thead>\n  <tbody>\n    <tr>\n      <th>0</th>\n      <td>毛泽东的诗哦。</td>\n      <td>poetry</td>\n    </tr>\n    <tr>\n      <th>1</th>\n      <td>有房有车吗微笑</td>\n      <td>chat</td>\n    </tr>\n    <tr>\n      <th>2</th>\n      <td>2013年亚洲冠军联赛恒广州恒大比赛时间。</td>\n      <td>match</td>\n    </tr>\n    <tr>\n      <th>3</th>\n      <td>若相惜不弃下一句是什么？</td>\n      <td>poetry</td>\n    </tr>\n    <tr>\n      <th>4</th>\n      <td>苹果翻译成英语</td>\n      <td>translation</td>\n    </tr>\n  </tbody>\n</table>\n</div>"
     },
     "metadata": {},
     "output_type": "execute_result",
     "execution_count": 88
    }
   ],
   "source": [
    "test_data_df.head()"
   ],
   "metadata": {
    "collapsed": false,
    "pycharm": {
     "name": "#%%\n",
     "is_executing": false
    }
   }
  },
  {
   "cell_type": "code",
   "execution_count": 89,
   "outputs": [
    {
     "data": {
      "text/plain": "         query label\ncount     2299  2299\nunique    2299    31\ntop     翻译慷慨激昂  chat\nfreq         1   455",
      "text/html": "<div>\n<style scoped>\n    .dataframe tbody tr th:only-of-type {\n        vertical-align: middle;\n    }\n\n    .dataframe tbody tr th {\n        vertical-align: top;\n    }\n\n    .dataframe thead th {\n        text-align: right;\n    }\n</style>\n<table border=\"1\" class=\"dataframe\">\n  <thead>\n    <tr style=\"text-align: right;\">\n      <th></th>\n      <th>query</th>\n      <th>label</th>\n    </tr>\n  </thead>\n  <tbody>\n    <tr>\n      <th>count</th>\n      <td>2299</td>\n      <td>2299</td>\n    </tr>\n    <tr>\n      <th>unique</th>\n      <td>2299</td>\n      <td>31</td>\n    </tr>\n    <tr>\n      <th>top</th>\n      <td>翻译慷慨激昂</td>\n      <td>chat</td>\n    </tr>\n    <tr>\n      <th>freq</th>\n      <td>1</td>\n      <td>455</td>\n    </tr>\n  </tbody>\n</table>\n</div>"
     },
     "metadata": {},
     "output_type": "execute_result",
     "execution_count": 89
    }
   ],
   "source": [
    "train_data_df.describe()"
   ],
   "metadata": {
    "collapsed": false,
    "pycharm": {
     "name": "#%%\n",
     "is_executing": false
    }
   }
  },
  {
   "cell_type": "code",
   "execution_count": 90,
   "outputs": [
    {
     "data": {
      "text/plain": "           query label\ncount        770   770\nunique       770    31\ntop     帮我链接到新浪网  chat\nfreq           1   154",
      "text/html": "<div>\n<style scoped>\n    .dataframe tbody tr th:only-of-type {\n        vertical-align: middle;\n    }\n\n    .dataframe tbody tr th {\n        vertical-align: top;\n    }\n\n    .dataframe thead th {\n        text-align: right;\n    }\n</style>\n<table border=\"1\" class=\"dataframe\">\n  <thead>\n    <tr style=\"text-align: right;\">\n      <th></th>\n      <th>query</th>\n      <th>label</th>\n    </tr>\n  </thead>\n  <tbody>\n    <tr>\n      <th>count</th>\n      <td>770</td>\n      <td>770</td>\n    </tr>\n    <tr>\n      <th>unique</th>\n      <td>770</td>\n      <td>31</td>\n    </tr>\n    <tr>\n      <th>top</th>\n      <td>帮我链接到新浪网</td>\n      <td>chat</td>\n    </tr>\n    <tr>\n      <th>freq</th>\n      <td>1</td>\n      <td>154</td>\n    </tr>\n  </tbody>\n</table>\n</div>"
     },
     "metadata": {},
     "output_type": "execute_result",
     "execution_count": 90
    }
   ],
   "source": [
    "test_data_df.describe()"
   ],
   "metadata": {
    "collapsed": false,
    "pycharm": {
     "name": "#%%\n",
     "is_executing": false
    }
   }
  },
  {
   "cell_type": "code",
   "execution_count": 91,
   "outputs": [
    {
     "data": {
      "text/plain": "31"
     },
     "metadata": {},
     "output_type": "execute_result",
     "execution_count": 91
    }
   ],
   "source": [
    "# 获取所有标签，也就是分类的类别\n",
    "# lables = list(set(train_data_df['label'].tolist()))\n",
    "# 所有标签\n",
    "labels = ['website', 'tvchannel', 'lottery', 'chat', 'match',\n",
    "          'datetime', 'weather', 'bus', 'novel', 'video', 'riddle',\n",
    "          'calc', 'telephone', 'health', 'contacts', 'epg', 'app', 'music',\n",
    "          'cookbook', 'stock', 'map', 'message', 'poetry', 'cinemas', 'news',\n",
    "          'flight', 'translation', 'train', 'schedule', 'radio', 'email']\n",
    "\n",
    "label_numbers = len(labels)\n",
    "label_numbers"
   ],
   "metadata": {
    "collapsed": false,
    "pycharm": {
     "name": "#%%\n",
     "is_executing": false
    }
   }
  },
  {
   "cell_type": "code",
   "execution_count": 92,
   "outputs": [],
   "source": [
    "# 标签和对应ID的映射字典\n",
    "label_index_dict = dict([(label, index) for index, label in enumerate(labels)])\n",
    "index_label_dict = dict([(index, label) for index, label in enumerate(labels)])"
   ],
   "metadata": {
    "collapsed": false,
    "pycharm": {
     "name": "#%%\n",
     "is_executing": false
    }
   }
  },
  {
   "cell_type": "code",
   "execution_count": 93,
   "outputs": [
    {
     "data": {
      "text/plain": "['他', '来到', '了', '网易', '杭研', '大厦']"
     },
     "metadata": {},
     "output_type": "execute_result",
     "execution_count": 93
    }
   ],
   "source": [
    "# 结巴分词 对元数据进行处理\n",
    "\n",
    "seg_list = jieba.cut(\"他来到了网易杭研大厦\")  # 默认精确模式\n",
    "list(seg_list)"
   ],
   "metadata": {
    "collapsed": false,
    "pycharm": {
     "name": "#%%\n",
     "is_executing": false
    }
   }
  },
  {
   "cell_type": "code",
   "execution_count": 94,
   "outputs": [
    {
     "data": {
      "text/plain": "            query     label                     cut_query\n0        今天东莞天气如何   weather              [今天, 东莞, 天气, 如何]\n1  从观音桥到重庆市图书馆怎么走       map  [从, 观音桥, 到, 重庆市, 图书馆, 怎么, 走]\n2          鸭蛋怎么腌？  cookbook                [鸭蛋, 怎么, 腌, ？]\n3         怎么治疗牛皮癣    health                 [怎么, 治疗, 牛皮癣]\n4             唠什么      chat                       [唠, 什么]\n5      阳澄湖大闸蟹的做法。  cookbook          [阳澄湖, 大闸蟹, 的, 做法, 。]\n6        昆山大润发在哪里       map              [昆山, 大润发, 在, 哪里]\n7       红烧肉怎么做？嗯？  cookbook         [红烧肉, 怎么, 做, ？, 嗯, ？]\n8       南京到厦门的火车票     train           [南京, 到, 厦门, 的, 火车票]\n9            6的平方      calc                    [6, 的, 平方]",
      "text/html": "<div>\n<style scoped>\n    .dataframe tbody tr th:only-of-type {\n        vertical-align: middle;\n    }\n\n    .dataframe tbody tr th {\n        vertical-align: top;\n    }\n\n    .dataframe thead th {\n        text-align: right;\n    }\n</style>\n<table border=\"1\" class=\"dataframe\">\n  <thead>\n    <tr style=\"text-align: right;\">\n      <th></th>\n      <th>query</th>\n      <th>label</th>\n      <th>cut_query</th>\n    </tr>\n  </thead>\n  <tbody>\n    <tr>\n      <th>0</th>\n      <td>今天东莞天气如何</td>\n      <td>weather</td>\n      <td>[今天, 东莞, 天气, 如何]</td>\n    </tr>\n    <tr>\n      <th>1</th>\n      <td>从观音桥到重庆市图书馆怎么走</td>\n      <td>map</td>\n      <td>[从, 观音桥, 到, 重庆市, 图书馆, 怎么, 走]</td>\n    </tr>\n    <tr>\n      <th>2</th>\n      <td>鸭蛋怎么腌？</td>\n      <td>cookbook</td>\n      <td>[鸭蛋, 怎么, 腌, ？]</td>\n    </tr>\n    <tr>\n      <th>3</th>\n      <td>怎么治疗牛皮癣</td>\n      <td>health</td>\n      <td>[怎么, 治疗, 牛皮癣]</td>\n    </tr>\n    <tr>\n      <th>4</th>\n      <td>唠什么</td>\n      <td>chat</td>\n      <td>[唠, 什么]</td>\n    </tr>\n    <tr>\n      <th>5</th>\n      <td>阳澄湖大闸蟹的做法。</td>\n      <td>cookbook</td>\n      <td>[阳澄湖, 大闸蟹, 的, 做法, 。]</td>\n    </tr>\n    <tr>\n      <th>6</th>\n      <td>昆山大润发在哪里</td>\n      <td>map</td>\n      <td>[昆山, 大润发, 在, 哪里]</td>\n    </tr>\n    <tr>\n      <th>7</th>\n      <td>红烧肉怎么做？嗯？</td>\n      <td>cookbook</td>\n      <td>[红烧肉, 怎么, 做, ？, 嗯, ？]</td>\n    </tr>\n    <tr>\n      <th>8</th>\n      <td>南京到厦门的火车票</td>\n      <td>train</td>\n      <td>[南京, 到, 厦门, 的, 火车票]</td>\n    </tr>\n    <tr>\n      <th>9</th>\n      <td>6的平方</td>\n      <td>calc</td>\n      <td>[6, 的, 平方]</td>\n    </tr>\n  </tbody>\n</table>\n</div>"
     },
     "metadata": {},
     "output_type": "execute_result",
     "execution_count": 94
    }
   ],
   "source": [
    "# 序列化\n",
    "\n",
    "def use_jieba_cut(one_sentence):\n",
    "    return list(jieba.cut(one_sentence))\n",
    "\n",
    "train_data_df['cut_query'] = train_data_df['query'].apply(use_jieba_cut)\n",
    "test_data_df['cut_query'] = test_data_df['query'].apply(use_jieba_cut)\n",
    "\n",
    "train_data_df.head(10)"
   ],
   "metadata": {
    "collapsed": false,
    "pycharm": {
     "name": "#%%\n",
     "is_executing": false
    }
   }
  },
  {
   "cell_type": "code",
   "execution_count": 95,
   "outputs": [
    {
     "data": {
      "text/plain": "                   query        label  \\\n0                毛泽东的诗哦。       poetry   \n1                有房有车吗微笑         chat   \n2  2013年亚洲冠军联赛恒广州恒大比赛时间。        match   \n3           若相惜不弃下一句是什么？       poetry   \n4                苹果翻译成英语  translation   \n5                 翻译光大银行  translation   \n6                   哪天的？         chat   \n7            无锡到阜阳怎么坐汽车？          bus   \n8               孜然排骨怎么做？     cookbook   \n9        娃咋么杨你因为呵呵演完呀不到你         chat   \n\n                                   cut_query  \n0                          [毛泽东, 的, 诗, 哦, 。]  \n1                            [有房, 有车, 吗, 微笑]  \n2  [2013, 年, 亚洲, 冠军联赛, 恒, 广州, 恒大, 比赛, 时间, 。]  \n3               [若, 相惜, 不弃, 下, 一句, 是, 什么, ？]  \n4                              [苹果, 翻译成, 英语]  \n5                                 [翻译, 光大银行]  \n6                                 [哪天, 的, ？]  \n7                  [无锡, 到, 阜阳, 怎么, 坐, 汽车, ？]  \n8                         [孜然, 排骨, 怎么, 做, ？]  \n9      [娃, 咋, 么, 杨, 你, 因为, 呵呵, 演完, 呀, 不到, 你]  ",
      "text/html": "<div>\n<style scoped>\n    .dataframe tbody tr th:only-of-type {\n        vertical-align: middle;\n    }\n\n    .dataframe tbody tr th {\n        vertical-align: top;\n    }\n\n    .dataframe thead th {\n        text-align: right;\n    }\n</style>\n<table border=\"1\" class=\"dataframe\">\n  <thead>\n    <tr style=\"text-align: right;\">\n      <th></th>\n      <th>query</th>\n      <th>label</th>\n      <th>cut_query</th>\n    </tr>\n  </thead>\n  <tbody>\n    <tr>\n      <th>0</th>\n      <td>毛泽东的诗哦。</td>\n      <td>poetry</td>\n      <td>[毛泽东, 的, 诗, 哦, 。]</td>\n    </tr>\n    <tr>\n      <th>1</th>\n      <td>有房有车吗微笑</td>\n      <td>chat</td>\n      <td>[有房, 有车, 吗, 微笑]</td>\n    </tr>\n    <tr>\n      <th>2</th>\n      <td>2013年亚洲冠军联赛恒广州恒大比赛时间。</td>\n      <td>match</td>\n      <td>[2013, 年, 亚洲, 冠军联赛, 恒, 广州, 恒大, 比赛, 时间, 。]</td>\n    </tr>\n    <tr>\n      <th>3</th>\n      <td>若相惜不弃下一句是什么？</td>\n      <td>poetry</td>\n      <td>[若, 相惜, 不弃, 下, 一句, 是, 什么, ？]</td>\n    </tr>\n    <tr>\n      <th>4</th>\n      <td>苹果翻译成英语</td>\n      <td>translation</td>\n      <td>[苹果, 翻译成, 英语]</td>\n    </tr>\n    <tr>\n      <th>5</th>\n      <td>翻译光大银行</td>\n      <td>translation</td>\n      <td>[翻译, 光大银行]</td>\n    </tr>\n    <tr>\n      <th>6</th>\n      <td>哪天的？</td>\n      <td>chat</td>\n      <td>[哪天, 的, ？]</td>\n    </tr>\n    <tr>\n      <th>7</th>\n      <td>无锡到阜阳怎么坐汽车？</td>\n      <td>bus</td>\n      <td>[无锡, 到, 阜阳, 怎么, 坐, 汽车, ？]</td>\n    </tr>\n    <tr>\n      <th>8</th>\n      <td>孜然排骨怎么做？</td>\n      <td>cookbook</td>\n      <td>[孜然, 排骨, 怎么, 做, ？]</td>\n    </tr>\n    <tr>\n      <th>9</th>\n      <td>娃咋么杨你因为呵呵演完呀不到你</td>\n      <td>chat</td>\n      <td>[娃, 咋, 么, 杨, 你, 因为, 呵呵, 演完, 呀, 不到, 你]</td>\n    </tr>\n  </tbody>\n</table>\n</div>"
     },
     "metadata": {},
     "output_type": "execute_result",
     "execution_count": 95
    }
   ],
   "source": [
    "test_data_df.head(10)"
   ],
   "metadata": {
    "collapsed": false,
    "pycharm": {
     "name": "#%%\n",
     "is_executing": false
    }
   }
  },
  {
   "cell_type": "code",
   "execution_count": 96,
   "outputs": [
    {
     "name": "stdout",
     "text": [
      "Number of words: 11498\n"
     ],
     "output_type": "stream"
    }
   ],
   "source": [
    "# 获取数据的所有词汇\n",
    "\n",
    "def get_all_vocabulary(data, colunm_name):\n",
    "    train_vocabulary_list = []\n",
    "    max_cut_query_lenth = 0\n",
    "    \n",
    "    for cut_query in data[colunm_name]:\n",
    "        if len(cut_query) > max_cut_query_lenth:\n",
    "            max_cut_query_lenth = len(cut_query)\n",
    "        train_vocabulary_list += cut_query\n",
    "    return train_vocabulary_list, max_cut_query_lenth\n",
    "\n",
    "train_vocabulary_list, max_cut_query_lenth = get_all_vocabulary(train_data_df, 'cut_query')\n",
    "print('Number of words:', len(train_vocabulary_list))"
   ],
   "metadata": {
    "collapsed": false,
    "pycharm": {
     "name": "#%%\n",
     "is_executing": false
    }
   }
  },
  {
   "cell_type": "code",
   "execution_count": 97,
   "outputs": [
    {
     "name": "stdout",
     "text": [
      "Max_cut_query_lenth: 26\n"
     ],
     "output_type": "stream"
    }
   ],
   "source": [
    "print('Max_cut_query_lenth:', max_cut_query_lenth)"
   ],
   "metadata": {
    "collapsed": false,
    "pycharm": {
     "name": "#%%\n",
     "is_executing": false
    }
   }
  },
  {
   "cell_type": "code",
   "execution_count": 98,
   "outputs": [
    {
     "name": "stdout",
     "text": [
      "Test_max_cut_query_lenth: 46\n"
     ],
     "output_type": "stream"
    }
   ],
   "source": [
    "test_vocabulary_list, test_max_cut_query_lenth = get_all_vocabulary(test_data_df, 'cut_query')\n",
    "print('Test_max_cut_query_lenth:', test_max_cut_query_lenth)"
   ],
   "metadata": {
    "collapsed": false,
    "pycharm": {
     "name": "#%%\n",
     "is_executing": false
    }
   }
  },
  {
   "cell_type": "code",
   "execution_count": 99,
   "outputs": [
    {
     "data": {
      "text/plain": "['今天', '东莞', '天气', '如何', '从', '观音桥', '到', '重庆市', '图书馆', '怎么']"
     },
     "metadata": {},
     "output_type": "execute_result",
     "execution_count": 99
    }
   ],
   "source": [
    "train_vocabulary_list[:10]"
   ],
   "metadata": {
    "collapsed": false,
    "pycharm": {
     "name": "#%%\n",
     "is_executing": false
    }
   }
  },
  {
   "cell_type": "code",
   "execution_count": 100,
   "outputs": [
    {
     "name": "stdout",
     "text": [
      "Number of different words: 2887\n"
     ],
     "output_type": "stream"
    }
   ],
   "source": [
    "train_vocabulary_counter = collections.Counter(train_vocabulary_list)\n",
    "print('Number of different words:', len(train_vocabulary_counter.keys()))"
   ],
   "metadata": {
    "collapsed": false,
    "pycharm": {
     "name": "#%%\n",
     "is_executing": false
    }
   }
  },
  {
   "cell_type": "code",
   "execution_count": 101,
   "outputs": [
    {
     "data": {
      "text/plain": "2888"
     },
     "metadata": {},
     "output_type": "execute_result",
     "execution_count": 101
    }
   ],
   "source": [
    "# 不同种类的词汇个数，预留一个位置给不存在的词汇（不存在的词汇标记为0）\n",
    "\n",
    "max_features = len(train_vocabulary_counter.keys()) + 1\n",
    "max_features"
   ],
   "metadata": {
    "collapsed": false,
    "pycharm": {
     "name": "#%%\n",
     "is_executing": false
    }
   }
  },
  {
   "cell_type": "code",
   "execution_count": 102,
   "outputs": [
    {
     "data": {
      "text/plain": "[('的', 605),\n ('。', 341),\n ('我', 320),\n ('你', 297),\n ('怎么', 273),\n ('？', 251),\n ('什么', 210),\n ('到', 165),\n ('给', 154),\n ('做', 148)]"
     },
     "metadata": {},
     "output_type": "execute_result",
     "execution_count": 102
    }
   ],
   "source": [
    "# 频率最高的10个字\n",
    "train_vocabulary_counter.most_common(10)"
   ],
   "metadata": {
    "collapsed": false,
    "pycharm": {
     "name": "#%%\n",
     "is_executing": false
    }
   }
  },
  {
   "cell_type": "code",
   "execution_count": 103,
   "outputs": [
    {
     "name": "stdout",
     "text": [
      "Word_times_zero: 1978\n",
      "Wors_times_zero/all: 0.685140284031867\n"
     ],
     "output_type": "stream"
    }
   ],
   "source": [
    "# 统计低频词语\n",
    "words_times_zero = 0\n",
    "for word, words_times in train_vocabulary_counter.items():\n",
    "    if words_times <= 1:\n",
    "        words_times_zero += 1\n",
    "print('Word_times_zero:', words_times_zero)\n",
    "print('Wors_times_zero/all:', words_times_zero / len(train_vocabulary_counter))"
   ],
   "metadata": {
    "collapsed": false,
    "pycharm": {
     "name": "#%%\n",
     "is_executing": false
    }
   }
  },
  {
   "cell_type": "code",
   "execution_count": 104,
   "outputs": [
    {
     "name": "stdout",
     "text": [
      "3 2\n"
     ],
     "output_type": "stream"
    }
   ],
   "source": [
    "# 制作词汇字典\n",
    "\n",
    "def create_train_vocabulary_dict(train_vocabulary_counter):\n",
    "    word_index, index_word = {}, {}\n",
    "    index_number = 1\n",
    "    for word, words_time in train_vocabulary_counter.most_common():\n",
    "        word_index[word] = index_number\n",
    "        index_word[index_number] = word\n",
    "        index_number += 1\n",
    "    return word_index, index_word\n",
    "\n",
    "word_index_dict, index_word_dict = create_train_vocabulary_dict(train_vocabulary_counter)\n",
    "\n",
    "print(word_index_dict['我'], word_index_dict['。'])\n",
    "        "
   ],
   "metadata": {
    "collapsed": false,
    "pycharm": {
     "name": "#%%\n",
     "is_executing": false
    }
   }
  },
  {
   "cell_type": "code",
   "execution_count": 105,
   "outputs": [
    {
     "name": "stdout",
     "text": [
      "播放 的\n"
     ],
     "output_type": "stream"
    }
   ],
   "source": [
    "print(index_word_dict[55], index_word_dict[1])"
   ],
   "metadata": {
    "collapsed": false,
    "pycharm": {
     "name": "#%%\n",
     "is_executing": false
    }
   }
  },
  {
   "cell_type": "code",
   "execution_count": 106,
   "outputs": [
    {
     "name": "stdout",
     "text": [
      "今天东莞天气如何 从观音桥到重庆市图书馆怎么走 鸭蛋怎么腌？\n",
      "weather map cookbook\n",
      "['今天', '东莞', '天气', '如何'] ['从', '观音桥', '到', '重庆市', '图书馆', '怎么', '走'] ['鸭蛋', '怎么', '腌', '？']\n"
     ],
     "output_type": "stream"
    }
   ],
   "source": [
    "pq = 0\n",
    "for index, row in train_data_df.iteritems():\n",
    "    print(row[0], row[1], row[2])\n",
    "    pq += 1\n",
    "    if pq == 10:\n",
    "        break"
   ],
   "metadata": {
    "collapsed": false,
    "pycharm": {
     "name": "#%%\n",
     "is_executing": false
    }
   }
  },
  {
   "cell_type": "code",
   "execution_count": 107,
   "outputs": [
    {
     "data": {
      "text/plain": "371"
     },
     "metadata": {},
     "output_type": "execute_result",
     "execution_count": 107
    }
   ],
   "source": [
    "word_index_dict.get('我们', 0)"
   ],
   "metadata": {
    "collapsed": false,
    "pycharm": {
     "name": "#%%\n",
     "is_executing": false
    }
   }
  },
  {
   "cell_type": "code",
   "execution_count": 108,
   "outputs": [
    {
     "name": "stdout",
     "text": [
      "[  0   0   0   0   0   0   0   0   0   0   0   0   0   0   0   0   0   0\n",
      "   0   0   0   0  33 318  27  90] [6]\n"
     ],
     "output_type": "stream"
    }
   ],
   "source": [
    "# 向量化数据\n",
    "def vectorize_data(data, label_index_dict, word_index_dict, max_cut_query_lenth):\n",
    "    x_train = []\n",
    "    y_train = []\n",
    "    for index, row in data.iterrows():\n",
    "        query_sentence = row[2]\n",
    "        label = row[1]\n",
    "        # 字典找不到的情况下用 0 填充\n",
    "        x = [word_index_dict.get(w, 0) for w in query_sentence]\n",
    "        y = [label_index_dict[label]]\n",
    "        x_train.append(x)\n",
    "        y_train.append(y)\n",
    "    return (pad_sequences(x_train, maxlen=max_cut_query_lenth), pad_sequences(y_train, maxlen=1))\n",
    "\n",
    "x_train, y_train = vectorize_data(train_data_df, label_index_dict, word_index_dict, max_cut_query_lenth)\n",
    "x_test, y_test = vectorize_data(test_data_df, label_index_dict, word_index_dict, test_max_cut_query_lenth)\n",
    "print(x_train[0], y_train[0])"
   ],
   "metadata": {
    "collapsed": false,
    "pycharm": {
     "name": "#%%\n",
     "is_executing": false
    }
   }
  },
  {
   "cell_type": "code",
   "execution_count": 109,
   "outputs": [
    {
     "name": "stdout",
     "text": [
      "(2299, 26) (2299, 31)\n"
     ],
     "output_type": "stream"
    }
   ],
   "source": [
    "y_train = to_categorical(y_train, label_numbers)\n",
    "y_test = to_categorical(y_test, label_numbers)\n",
    "print(x_train.shape, y_train.shape)"
   ],
   "metadata": {
    "collapsed": false,
    "pycharm": {
     "name": "#%%\n",
     "is_executing": false
    }
   }
  },
  {
   "cell_type": "code",
   "execution_count": null,
   "outputs": [],
   "source": [
    "\n",
    "\n",
    "\n",
    "\n",
    "# 设计模型\n",
    "\n",
    "def creat_lstm_model(max_features, max_cut_query_lenth, label_numbers):\n",
    "    model = Sequential()\n",
    "    model.add(Embedding(input_dim=max_features, output_dim=32, input_length=max_cut_query_lenth))\n",
    "    model.add(LSTM(units=64, dropout=0.2, recurrent_dropout=0.2))\n",
    "    model.add(Dense(label_numbers, activation='softmax'))\n",
    "    # 尝试使用不同的优化器和不同的优化器配置\n",
    "    model.compile(loss='categorical_crossentropy',  # categorical_crossentropy：亦称作多类的对数损失，注意使用该目标函数时，需要将标签转化为形如(nb_samples, nb_classes)的二值序列\n",
    "                  optimizer='adam',\n",
    "                  metrics=[f1])   # 指标\n"
   ],
   "metadata": {
    "collapsed": false,
    "pycharm": {
     "name": "#%%\n"
    }
   }
  }
 ],
 "metadata": {
  "kernelspec": {
   "name": "pycharm-1e456653",
   "language": "python",
   "display_name": "PyCharm (Python Test)"
  },
  "language_info": {
   "codemirror_mode": {
    "name": "ipython",
    "version": 2
   },
   "file_extension": ".py",
   "mimetype": "text/x-python",
   "name": "python",
   "nbconvert_exporter": "python",
   "pygments_lexer": "ipython2",
   "version": "2.7.6"
  },
  "pycharm": {
   "stem_cell": {
    "cell_type": "raw",
    "source": [],
    "metadata": {
     "collapsed": false
    }
   }
  }
 },
 "nbformat": 4,
 "nbformat_minor": 0
}